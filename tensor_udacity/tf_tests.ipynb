{
 "cells": [
  {
   "cell_type": "markdown",
   "metadata": {},
   "source": [
    "### Constants and Imports"
   ]
  },
  {
   "cell_type": "code",
   "execution_count": 1,
   "metadata": {},
   "outputs": [],
   "source": [
    "pickle_rel_path = '../datasets/notmnist/notMNIST.pickle'\n",
    "import os\n",
    "import pickle\n",
    "import matplotlib.pyplot as plt\n",
    "import numpy as np\n",
    "import tensorflow as tf\n",
    "from tensorflow.python.framework import ops"
   ]
  },
  {
   "cell_type": "markdown",
   "metadata": {},
   "source": [
    "### Import or generate data"
   ]
  },
  {
   "cell_type": "code",
   "execution_count": 2,
   "metadata": {},
   "outputs": [
    {
     "name": "stdout",
     "output_type": "stream",
     "text": [
      "Pickle location: C:\\Users\\lgess\\Documents\\repo\\learning_ai\\datasets\\notmnist\\notMNIST.pickle\n"
     ]
    }
   ],
   "source": [
    "file_dir = os.path.dirname(os.path.realpath('__file__'))\n",
    "pickle_path = os.path.abspath(os.path.join(file_dir, pickle_rel_path))\n",
    "print('Pickle location:',pickle_path)"
   ]
  },
  {
   "cell_type": "code",
   "execution_count": 3,
   "metadata": {},
   "outputs": [
    {
     "name": "stdout",
     "output_type": "stream",
     "text": [
      "dict_keys(['valid_dataset', 'test_dataset', 'valid_labels', 'test_labels', 'train_labels', 'train_dataset'])\n"
     ]
    }
   ],
   "source": [
    "with open(pickle_path,'rb') as file:\n",
    "    datasets = pickle.load(file)\n",
    "print(datasets.keys())"
   ]
  },
  {
   "cell_type": "code",
   "execution_count": 11,
   "metadata": {},
   "outputs": [],
   "source": [
    "train_dataset = datasets['train_dataset']\n",
    "orig_train_labels = datasets['train_labels'] \n",
    "validate_dataset = datasets['valid_dataset']\n",
    "orig_validate_labels = datasets['valid_labels'] \n",
    "test_dataset = datasets['test_dataset']\n",
    "orig_test_labels = datasets['test_labels'] "
   ]
  },
  {
   "cell_type": "markdown",
   "metadata": {},
   "source": [
    "### Setup data (convert to convenient representation)"
   ]
  },
  {
   "cell_type": "code",
   "execution_count": 5,
   "metadata": {},
   "outputs": [
    {
     "data": {
      "text/plain": [
       "array([1., 0., 0., 0., 0., 0., 0., 0., 0., 0.], dtype=float32)"
      ]
     },
     "execution_count": 5,
     "metadata": {},
     "output_type": "execute_result"
    }
   ],
   "source": [
    "def setup_labels(label_array, num_labels):\n",
    "    return ((np.arange(num_labels) == label_array[:,None]).astype(np.float32))\n",
    "\n",
    "num_labels = 10\n",
    "train_labels = setup_labels(orig_train_labels, num_labels)\n",
    "validate_labels = setup_labels(orig_validate_labels, num_labels)\n",
    "test_labels = setup_labels(orig_test_labels, num_labels)"
   ]
  },
  {
   "cell_type": "markdown",
   "metadata": {},
   "source": [
    "### Normalize data"
   ]
  },
  {
   "cell_type": "markdown",
   "metadata": {},
   "source": [
    "Pre-normalized"
   ]
  },
  {
   "cell_type": "markdown",
   "metadata": {},
   "source": [
    "### Define model"
   ]
  },
  {
   "cell_type": "code",
   "execution_count": 16,
   "metadata": {},
   "outputs": [
    {
     "name": "stdout",
     "output_type": "stream",
     "text": [
      "[None 28 28] [10 28 28] [10]\n"
     ]
    }
   ],
   "source": [
    "ops.reset_default_graph()\n",
    "\n",
    "learning_rate = 0.05\n",
    "batch_size = 5000\n",
    "\n",
    "samples_shape = np.append(None,train_dataset.shape[1:])\n",
    "targets_shape = np.append(None,train_labels.shape[1:])\n",
    "weights_shape = np.append(num_labels,samples_shape[1:])\n",
    "biasses_shape = [num_labels]\n",
    "\n",
    "samples = tf.placeholder(tf.float32, shape=samples_shape)\n",
    "targets = tf.placeholder(tf.float32, shape=targets_shape)\n",
    "weights = tf.get_variable(\"W\", shape=weights_shape, dtype=tf.float32)\n",
    "biasses = tf.get_variable(\"B\", shape=biasses_shape, dtype=tf.float32)\n",
    "print(samples_shape,weights_shape,biasses_shape)\n",
    "\n",
    "def weighted_inputs():\n",
    "    axis_weights = np.arange(len(weights_shape))[1:]\n",
    "    axis_samples = np.arange(len(samples_shape))[1:]\n",
    "    axes = (axis_samples,axis_weights)\n",
    "    return tf.tensordot(samples,weights,axes)+biasses\n",
    "\n",
    "def activation_function(weighted_inputs):\n",
    "    exp = tf.exp(weighted_inputs)\n",
    "    return (tf.div(exp,tf.add(exp,1)))\n",
    "\n",
    "def model():\n",
    "    return activation_function(weighted_inputs())\n",
    "\n",
    "def loss():\n",
    "    return tf.reduce_mean(tf.square(tf.subtract(targets,model())))\n",
    "\n",
    "def training_step():\n",
    "    optimizer = tf.train.GradientDescentOptimizer(learning_rate)\n",
    "    return optimizer.minimize(loss())"
   ]
  },
  {
   "cell_type": "markdown",
   "metadata": {},
   "source": [
    "### Train model"
   ]
  },
  {
   "cell_type": "code",
   "execution_count": 17,
   "metadata": {},
   "outputs": [],
   "source": [
    "init = tf.global_variables_initializer()\n",
    "sess = tf.Session()\n",
    "sess.run(init)"
   ]
  },
  {
   "cell_type": "code",
   "execution_count": 18,
   "metadata": {},
   "outputs": [
    {
     "name": "stdout",
     "output_type": "stream",
     "text": [
      "0.30389214\n",
      "0.2718571\n",
      "0.243364\n",
      "0.2247313\n",
      "0.2076934\n",
      "0.1950117\n",
      "0.18407273\n",
      "0.17651777\n",
      "0.16924886\n",
      "0.16473803\n"
     ]
    }
   ],
   "source": [
    "# Training loop\n",
    "loss_vec = []\n",
    "for i in range(100):\n",
    "    rand_index = np.random.choice(len(train_dataset), size=batch_size)\n",
    "    feed_dict={samples: train_dataset[rand_index], targets: train_labels[rand_index]}\n",
    "    sess.run(training_step(), feed_dict)\n",
    "    temp_loss = sess.run(loss(), feed_dict)\n",
    "    if i%10 == 0:\n",
    "        print(temp_loss)"
   ]
  },
  {
   "cell_type": "code",
   "execution_count": 32,
   "metadata": {},
   "outputs": [],
   "source": [
    "def show_sample(sample_image, label):\n",
    "    plt.figure()\n",
    "    plt.imshow(sample_image)\n",
    "    print('Label:', label)\n",
    "\n",
    "#index=0\n",
    "#show_sample(validate_dataset[index],validate_labels[index])\n",
    "#sess.run(model(),feed_dict={samples: [validate_dataset[index]]})\n",
    "#show_sample(sess.run(weights[4]),'')"
   ]
  },
  {
   "cell_type": "code",
   "execution_count": null,
   "metadata": {},
   "outputs": [],
   "source": []
  }
 ],
 "metadata": {
  "kernelspec": {
   "display_name": "Python 3",
   "language": "python",
   "name": "python3"
  },
  "language_info": {
   "codemirror_mode": {
    "name": "ipython",
    "version": 3
   },
   "file_extension": ".py",
   "mimetype": "text/x-python",
   "name": "python",
   "nbconvert_exporter": "python",
   "pygments_lexer": "ipython3",
   "version": "3.5.4"
  }
 },
 "nbformat": 4,
 "nbformat_minor": 2
}
