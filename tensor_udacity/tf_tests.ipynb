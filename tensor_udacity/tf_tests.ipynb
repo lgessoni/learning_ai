{
 "cells": [
  {
   "cell_type": "code",
   "execution_count": 2,
   "metadata": {},
   "outputs": [],
   "source": [
    "pickle_rel_path = '../datasets/notmnist/notMNIST.pickle'\n",
    "import os\n",
    "import pickle\n",
    "import matplotlib.pyplot as plt\n",
    "import numpy as np\n",
    "import tensorflow as tf\n",
    "from tensorflow.python.framework import ops"
   ]
  },
  {
   "cell_type": "markdown",
   "metadata": {},
   "source": [
    "### Import data"
   ]
  },
  {
   "cell_type": "code",
   "execution_count": 3,
   "metadata": {},
   "outputs": [
    {
     "name": "stdout",
     "output_type": "stream",
     "text": [
      "Pickle location: C:\\Users\\lgess\\Documents\\repo\\learning_ai\\datasets\\notmnist\\notMNIST.pickle\n"
     ]
    }
   ],
   "source": [
    "file_dir = os.path.dirname(os.path.realpath('__file__'))\n",
    "pickle_path = os.path.abspath(os.path.join(file_dir, pickle_rel_path))\n",
    "print('Pickle location:',pickle_path)"
   ]
  },
  {
   "cell_type": "code",
   "execution_count": 4,
   "metadata": {},
   "outputs": [
    {
     "name": "stdout",
     "output_type": "stream",
     "text": [
      "dict_keys(['test_labels', 'valid_labels', 'valid_dataset', 'train_dataset', 'train_labels', 'test_dataset'])\n"
     ]
    }
   ],
   "source": [
    "with open(pickle_path,'rb') as file:\n",
    "    datasets = pickle.load(file)\n",
    "print(datasets.keys())"
   ]
  },
  {
   "cell_type": "code",
   "execution_count": 5,
   "metadata": {},
   "outputs": [],
   "source": [
    "train_dataset = datasets['train_dataset']\n",
    "orig_train_labels = datasets['train_labels'] \n",
    "validate_dataset = datasets['valid_dataset']\n",
    "orig_validate_labels = datasets['valid_labels'] \n",
    "test_dataset = datasets['test_dataset']\n",
    "orig_test_labels = datasets['test_labels'] "
   ]
  },
  {
   "cell_type": "markdown",
   "metadata": {},
   "source": [
    "### Setup data"
   ]
  },
  {
   "cell_type": "code",
   "execution_count": 6,
   "metadata": {},
   "outputs": [],
   "source": [
    "def setup_labels(label_array, num_labels):\n",
    "    return ((np.arange(num_labels) == label_array[:,None]).astype(np.float32))\n",
    "\n",
    "num_labels = 10\n",
    "train_labels = setup_labels(orig_train_labels, num_labels)\n",
    "validate_labels = setup_labels(orig_validate_labels, num_labels)\n",
    "test_labels = setup_labels(orig_test_labels, num_labels)"
   ]
  },
  {
   "cell_type": "markdown",
   "metadata": {},
   "source": [
    "### Normalize data"
   ]
  },
  {
   "cell_type": "markdown",
   "metadata": {},
   "source": [
    "Pre-normalized"
   ]
  },
  {
   "cell_type": "markdown",
   "metadata": {},
   "source": [
    "### Define model"
   ]
  },
  {
   "cell_type": "code",
   "execution_count": 7,
   "metadata": {},
   "outputs": [
    {
     "name": "stdout",
     "output_type": "stream",
     "text": [
      "[None 28 28] [None 10]\n"
     ]
    }
   ],
   "source": [
    "ops.reset_default_graph()\n",
    "\n",
    "batch_size = 128\n",
    "iterations = 1000\n",
    "layer1_size = 1024\n",
    "layer2_size = num_labels\n",
    "learning_rate = tf.placeholder_with_default(0.5, [])\n",
    "\n",
    "samples_shape = np.append(None,train_dataset.shape[1:])\n",
    "targets_shape = np.append(None,train_labels.shape[1:])\n",
    "w1_shape = np.append(layer1_size,samples_shape[1:])\n",
    "b1_shape = [layer1_size]\n",
    "w2_shape = [layer2_size,layer1_size]\n",
    "b2_shape = [layer2_size]\n",
    "print(samples_shape,targets_shape)\n",
    "\n",
    "samples = tf.placeholder(tf.float32, shape=samples_shape)\n",
    "targets = tf.placeholder(tf.float32, shape=targets_shape)\n",
    "initializer = tf.glorot_normal_initializer()\n",
    "w1 = tf.get_variable(\"W1\", shape=w1_shape, dtype=tf.float32, initializer=initializer)\n",
    "b1 = tf.get_variable(\"B1\", shape=b1_shape, dtype=tf.float32, initializer=initializer)\n",
    "w2 = tf.get_variable(\"W2\", shape=w2_shape, dtype=tf.float32, initializer=initializer)\n",
    "b2 = tf.get_variable(\"B2\", shape=b2_shape, dtype=tf.float32, initializer=initializer)\n",
    "\n",
    "def weighted_inputs(x, w, b, rank): \n",
    "    axis = np.arange(1,rank)\n",
    "    return tf.tensordot(x,w,(axis,axis))+b\n",
    "\n",
    "def sigmoid_activation(z):\n",
    "    exp = tf.exp(z)\n",
    "    return (tf.div(exp,tf.add(exp,1)))\n",
    "\n",
    "def softmax_activation(z,rank):\n",
    "    exp = tf.exp(z)\n",
    "    sum_ = tf.reduce_sum(exp,np.arange(1,rank))\n",
    "    return exp/tf.reshape(sum_,[-1,1])\n",
    "    \n",
    "def model():\n",
    "    layer1 = sigmoid_activation(weighted_inputs(samples,w1,b1,len(w1_shape)))\n",
    "    layer2 = softmax_activation(weighted_inputs(layer1,w2,b2,len(w2_shape)),len(b2_shape)+1)\n",
    "    return layer2\n",
    "\n",
    "def loss_function():\n",
    "    #return tf.reduce_mean(tf.square(targets-model()))\n",
    "    return tf.reduce_mean(-tf.multiply(targets,tf.log(model())))\n",
    "\n",
    "def training_step(loss):\n",
    "    optimizer = tf.train.GradientDescentOptimizer(learning_rate)\n",
    "    return optimizer.minimize(loss)"
   ]
  },
  {
   "cell_type": "markdown",
   "metadata": {},
   "source": [
    "### Train model"
   ]
  },
  {
   "cell_type": "code",
   "execution_count": 10,
   "metadata": {},
   "outputs": [],
   "source": [
    "init = tf.global_variables_initializer()\n",
    "sess = tf.Session(config=tf.ConfigProto(log_device_placement=True))\n",
    "sess.run(init)"
   ]
  },
  {
   "cell_type": "code",
   "execution_count": 11,
   "metadata": {
    "scrolled": true
   },
   "outputs": [
    {
     "name": "stdout",
     "output_type": "stream",
     "text": [
      "0.23575187\n",
      "0.13901386\n",
      "0.10218233\n",
      "0.09405238\n",
      "0.073318705\n",
      "0.08272201\n",
      "0.07594327\n",
      "0.07024832\n",
      "0.078910045\n",
      "0.06290753\n",
      "0.06972141\n"
     ]
    }
   ],
   "source": [
    "# Training loop\n",
    "loss = loss_function()\n",
    "step = training_step(loss)   \n",
    "index = 0\n",
    "for i in range(iterations):\n",
    "    feed_dict={samples: train_dataset[index:index+batch_size], targets: train_labels[index:index+batch_size]}      \n",
    "    sess.run(step, feed_dict)\n",
    "    if i%(iterations/10) == 0:\n",
    "        loss_value = sess.run(loss, feed_dict)\n",
    "        print(loss_value)\n",
    "    index = index + batch_size\n",
    "    if index + batch_size >= len(train_dataset):\n",
    "        index = 0\n",
    "loss_value = sess.run(loss, feed_dict)\n",
    "print(loss_value)\n",
    "\n",
    "writer = tf.summary.FileWriter(\"/tf.log\", sess.graph)"
   ]
  },
  {
   "cell_type": "markdown",
   "metadata": {},
   "source": [
    "### Evaluate Model"
   ]
  },
  {
   "cell_type": "code",
   "execution_count": 9,
   "metadata": {},
   "outputs": [
    {
     "name": "stdout",
     "output_type": "stream",
     "text": [
      "0.81603 0.8126\n"
     ]
    }
   ],
   "source": [
    "def predict():\n",
    "    return tf.cast(tf.equal(model(),tf.reduce_max(model(),1,keep_dims=True)),tf.float32)\n",
    "\n",
    "def accuracy():\n",
    "    comparison_matrix = tf.reduce_all(tf.equal(predict(),targets),1)\n",
    "    return tf.reduce_mean(tf.cast(comparison_matrix,tf.float32))\n",
    "\n",
    "num_train = 100000\n",
    "acc_train = sess.run(accuracy(),feed_dict={samples: train_dataset[:num_train], targets: train_labels[:num_train]})\n",
    "acc_valid = sess.run(accuracy(),feed_dict={samples: validate_dataset, targets: validate_labels})\n",
    "print(acc_train, acc_valid)"
   ]
  },
  {
   "cell_type": "markdown",
   "metadata": {},
   "source": [
    "### Test sample"
   ]
  },
  {
   "cell_type": "code",
   "execution_count": 63,
   "metadata": {},
   "outputs": [
    {
     "name": "stdout",
     "output_type": "stream",
     "text": [
      "Label: [0. 0. 0. 1. 0. 0. 0. 0. 0. 0.]\n"
     ]
    },
    {
     "data": {
      "text/plain": [
       "array([[0., 0., 0., 1., 0., 0., 0., 0., 0., 0.]], dtype=float32)"
      ]
     },
     "execution_count": 63,
     "metadata": {},
     "output_type": "execute_result"
    },
    {
     "data": {
      "image/png": "[encoded data removed]",
      "text/plain": [
       "<matplotlib.figure.Figure at 0x1f2a6e76a58>"
      ]
     },
     "metadata": {},
     "output_type": "display_data"
    }
   ],
   "source": [
    "def show_sample(sample_image, label):\n",
    "    plt.figure()\n",
    "    plt.imshow(sample_image)\n",
    "    print('Label:', label)\n",
    "\n",
    "index=0\n",
    "show_sample(validate_dataset[index],validate_labels[index])\n",
    "sess.run(predict(),feed_dict={samples: [validate_dataset[index]]})"
   ]
  },
  {
   "cell_type": "code",
   "execution_count": 9,
   "metadata": {},
   "outputs": [],
   "source": []
  },
  {
   "cell_type": "code",
   "execution_count": null,
   "metadata": {},
   "outputs": [],
   "source": []
  }
 ],
 "metadata": {
  "kernelspec": {
   "display_name": "Python 3",
   "language": "python",
   "name": "python3"
  },
  "language_info": {
   "codemirror_mode": {
    "name": "ipython",
    "version": 3
   },
   "file_extension": ".py",
   "mimetype": "text/x-python",
   "name": "python",
   "nbconvert_exporter": "python",
   "pygments_lexer": "ipython3",
   "version": "3.5.4"
  }
 },
 "nbformat": 4,
 "nbformat_minor": 2
}
